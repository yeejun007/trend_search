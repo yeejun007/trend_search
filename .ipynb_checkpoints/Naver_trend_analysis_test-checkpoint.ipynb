{
 "cells": [
  {
   "cell_type": "markdown",
   "metadata": {},
   "source": [
    "## Naver 검색어트렌드 \n",
    "- 설정한 검색기간중 가장 높은 검색빈도를 보인 시점을 100으로 하고, 상대적인 검색량을 보여준다.\n",
    "- https://developers.naver.com/docs/datalab/search/#%EA%B0%9C%EC%9A%94\n",
    "- 네이버 통합검색에서의 검색 추이 데이터를 JSON 형식으로 반환한다\n",
    "- Naver Trend API 하루 호출 한도 : 1000회\n",
    "- 성별\n",
    "- 연령별(5살 단위)\n"
   ]
  },
  {
   "cell_type": "code",
   "execution_count": 105,
   "metadata": {},
   "outputs": [],
   "source": [
    "# 특정 기간동안 연령별, 키워드별로 어떤 시기에 어떤 아이템을 가장 많이 찾는지를 알아보는 작업. \n",
    "# 1차 : 쇼핑 플랫폼에서 사람들이 가장 선호하는 제품 키워드 각각 10개 정도씩 뽑아서 리스트업.\n",
    "# 2차 : 구글, Naver에서 제공하는 검색트렌트 api에 이 키워드들을 넣어서 성별, 연령별 검색량의 추이(지정한 기간 내에서의..) 파악."
   ]
  },
  {
   "cell_type": "code",
   "execution_count": 106,
   "metadata": {},
   "outputs": [],
   "source": [
    "import seaborn as sns\n",
    "import pandas as pd\n",
    "import matplotlib.pylab as plt\n",
    "import matplotlib as mpl\n",
    "from matplotlib import rc\n",
    "import json\n",
    "import requests\n",
    "import missingno as msno\n",
    "import warnings\n",
    "warnings.filterwarnings('ignore')"
   ]
  },
  {
   "cell_type": "code",
   "execution_count": 107,
   "metadata": {},
   "outputs": [],
   "source": [
    "## Naver developer datalab 어플리케이션 ID, SECRET\n",
    "\n",
    "CLIENT_ID = 'u6hiDqzI59KsFrcace7m'\n",
    "CLIENT_SECRET = 'Sx11g43rrR'"
   ]
  },
  {
   "cell_type": "code",
   "execution_count": null,
   "metadata": {},
   "outputs": [],
   "source": [
    "# 글램브라 노와이어/스포츠브라팬티 외 여성속옷세트"
   ]
  },
  {
   "cell_type": "code",
   "execution_count": 86,
   "metadata": {},
   "outputs": [],
   "source": [
    "url = 'https://openapi.naver.com/v1/datalab/search'\n",
    "headers = {\n",
    "    \"Content-Type\": \"application/json\",\n",
    "    \"X-Naver-Client-Id\": CLIENT_ID,\n",
    "    \"X-Naver-Client-Secret\": CLIENT_SECRET\n",
    "}\n",
    "params = {\n",
    "    \"startDate\": \"2019-01-01\",\n",
    "    \"endDate\": \"2019-12-30\",\n",
    "    \"timeUnit\": \"month\",\n",
    "    \"keywordGroups\": [\n",
    "        {\"groupName\": \"초코우유\", \"keywords\": ['초코우유', '쵸코우유', '쵸쿄우유', '초쿄우유']},\n",
    "    ],\n",
    "    \"gender\": \"f\",\n",
    "    \"ages\": ['3', '4', '5']   # 19 ~ 34세\n",
    "}"
   ]
  },
  {
   "cell_type": "code",
   "execution_count": 87,
   "metadata": {},
   "outputs": [
    {
     "data": {
      "text/plain": [
       "'{\"startDate\": \"2019-01-01\", \"endDate\": \"2019-12-30\", \"timeUnit\": \"month\", \"keywordGroups\": [{\"groupName\": \"\\\\ucd08\\\\ucf54\\\\uc6b0\\\\uc720\", \"keywords\": [\"\\\\ucd08\\\\ucf54\\\\uc6b0\\\\uc720\", \"\\\\ucd78\\\\ucf54\\\\uc6b0\\\\uc720\", \"\\\\ucd78\\\\ucfc4\\\\uc6b0\\\\uc720\", \"\\\\ucd08\\\\ucfc4\\\\uc6b0\\\\uc720\"]}], \"gender\": \"f\", \"ages\": [\"3\", \"4\", \"5\"]}'"
      ]
     },
     "execution_count": 87,
     "metadata": {},
     "output_type": "execute_result"
    }
   ],
   "source": [
    "json.dumps(params)"
   ]
  },
  {
   "cell_type": "code",
   "execution_count": 88,
   "metadata": {},
   "outputs": [
    {
     "data": {
      "text/plain": [
       "<Response [200]>"
      ]
     },
     "execution_count": 88,
     "metadata": {},
     "output_type": "execute_result"
    }
   ],
   "source": [
    "response = requests.post(url, json.dumps(params), headers=headers)\n",
    "response"
   ]
  },
  {
   "cell_type": "code",
   "execution_count": 89,
   "metadata": {},
   "outputs": [
    {
     "data": {
      "text/plain": [
       "{'startDate': '2019-01-01',\n",
       " 'endDate': '2019-12-31',\n",
       " 'timeUnit': 'month',\n",
       " 'results': [{'title': '초코우유',\n",
       "   'keywords': ['초코우유', '쵸코우유', '쵸쿄우유', '초쿄우유'],\n",
       "   'data': [{'period': '2019-01-01', 'ratio': 86.01633},\n",
       "    {'period': '2019-02-01', 'ratio': 84.14223},\n",
       "    {'period': '2019-03-01', 'ratio': 100},\n",
       "    {'period': '2019-04-01', 'ratio': 95.09851},\n",
       "    {'period': '2019-05-01', 'ratio': 79.38491},\n",
       "    {'period': '2019-06-01', 'ratio': 71.45603},\n",
       "    {'period': '2019-07-01', 'ratio': 74.38731},\n",
       "    {'period': '2019-08-01', 'ratio': 77.22248},\n",
       "    {'period': '2019-09-01', 'ratio': 78.27967},\n",
       "    {'period': '2019-10-01', 'ratio': 88.08265},\n",
       "    {'period': '2019-11-01', 'ratio': 76.88611},\n",
       "    {'period': '2019-12-01', 'ratio': 79.19269}]}]}"
      ]
     },
     "execution_count": 89,
     "metadata": {},
     "output_type": "execute_result"
    }
   ],
   "source": [
    "response.json()"
   ]
  },
  {
   "cell_type": "code",
   "execution_count": 91,
   "metadata": {},
   "outputs": [],
   "source": [
    "## 받아온 데이터 전처리 \n",
    "\n",
    "datas = response.json()['results']\n",
    "\n",
    "dfs = []\n",
    "for data in datas:\n",
    "    df = pd.DataFrame(data[\"data\"])\n",
    "    df[\"title\"] = data[\"title\"]\n",
    "    dfs.append(df)\n",
    "    \n",
    "result_df = pd.concat(dfs, ignore_index=True)"
   ]
  },
  {
   "cell_type": "code",
   "execution_count": 92,
   "metadata": {},
   "outputs": [
    {
     "data": {
      "text/html": [
       "<div>\n",
       "<style scoped>\n",
       "    .dataframe tbody tr th:only-of-type {\n",
       "        vertical-align: middle;\n",
       "    }\n",
       "\n",
       "    .dataframe tbody tr th {\n",
       "        vertical-align: top;\n",
       "    }\n",
       "\n",
       "    .dataframe thead th {\n",
       "        text-align: right;\n",
       "    }\n",
       "</style>\n",
       "<table border=\"1\" class=\"dataframe\">\n",
       "  <thead>\n",
       "    <tr style=\"text-align: right;\">\n",
       "      <th></th>\n",
       "      <th>period</th>\n",
       "      <th>ratio</th>\n",
       "      <th>title</th>\n",
       "    </tr>\n",
       "  </thead>\n",
       "  <tbody>\n",
       "    <tr>\n",
       "      <th>0</th>\n",
       "      <td>2019-01-01</td>\n",
       "      <td>86.01633</td>\n",
       "      <td>초코우유</td>\n",
       "    </tr>\n",
       "    <tr>\n",
       "      <th>1</th>\n",
       "      <td>2019-02-01</td>\n",
       "      <td>84.14223</td>\n",
       "      <td>초코우유</td>\n",
       "    </tr>\n",
       "    <tr>\n",
       "      <th>2</th>\n",
       "      <td>2019-03-01</td>\n",
       "      <td>100.00000</td>\n",
       "      <td>초코우유</td>\n",
       "    </tr>\n",
       "    <tr>\n",
       "      <th>3</th>\n",
       "      <td>2019-04-01</td>\n",
       "      <td>95.09851</td>\n",
       "      <td>초코우유</td>\n",
       "    </tr>\n",
       "    <tr>\n",
       "      <th>4</th>\n",
       "      <td>2019-05-01</td>\n",
       "      <td>79.38491</td>\n",
       "      <td>초코우유</td>\n",
       "    </tr>\n",
       "    <tr>\n",
       "      <th>5</th>\n",
       "      <td>2019-06-01</td>\n",
       "      <td>71.45603</td>\n",
       "      <td>초코우유</td>\n",
       "    </tr>\n",
       "    <tr>\n",
       "      <th>6</th>\n",
       "      <td>2019-07-01</td>\n",
       "      <td>74.38731</td>\n",
       "      <td>초코우유</td>\n",
       "    </tr>\n",
       "    <tr>\n",
       "      <th>7</th>\n",
       "      <td>2019-08-01</td>\n",
       "      <td>77.22248</td>\n",
       "      <td>초코우유</td>\n",
       "    </tr>\n",
       "    <tr>\n",
       "      <th>8</th>\n",
       "      <td>2019-09-01</td>\n",
       "      <td>78.27967</td>\n",
       "      <td>초코우유</td>\n",
       "    </tr>\n",
       "    <tr>\n",
       "      <th>9</th>\n",
       "      <td>2019-10-01</td>\n",
       "      <td>88.08265</td>\n",
       "      <td>초코우유</td>\n",
       "    </tr>\n",
       "    <tr>\n",
       "      <th>10</th>\n",
       "      <td>2019-11-01</td>\n",
       "      <td>76.88611</td>\n",
       "      <td>초코우유</td>\n",
       "    </tr>\n",
       "    <tr>\n",
       "      <th>11</th>\n",
       "      <td>2019-12-01</td>\n",
       "      <td>79.19269</td>\n",
       "      <td>초코우유</td>\n",
       "    </tr>\n",
       "  </tbody>\n",
       "</table>\n",
       "</div>"
      ],
      "text/plain": [
       "        period      ratio title\n",
       "0   2019-01-01   86.01633  초코우유\n",
       "1   2019-02-01   84.14223  초코우유\n",
       "2   2019-03-01  100.00000  초코우유\n",
       "3   2019-04-01   95.09851  초코우유\n",
       "4   2019-05-01   79.38491  초코우유\n",
       "5   2019-06-01   71.45603  초코우유\n",
       "6   2019-07-01   74.38731  초코우유\n",
       "7   2019-08-01   77.22248  초코우유\n",
       "8   2019-09-01   78.27967  초코우유\n",
       "9   2019-10-01   88.08265  초코우유\n",
       "10  2019-11-01   76.88611  초코우유\n",
       "11  2019-12-01   79.19269  초코우유"
      ]
     },
     "execution_count": 92,
     "metadata": {},
     "output_type": "execute_result"
    }
   ],
   "source": [
    "result_df"
   ]
  },
  {
   "cell_type": "code",
   "execution_count": 101,
   "metadata": {},
   "outputs": [
    {
     "data": {
      "image/png": "[encoded data removed]",
      "text/plain": [
       "<Figure size 1008x432 with 1 Axes>"
      ]
     },
     "metadata": {
      "image/png": {
       "height": 370,
       "width": 821
      },
      "needs_background": "light"
     },
     "output_type": "display_data"
    }
   ],
   "source": [
    "result_df.plot(x='period', y='ratio', figsize=(14, 6));"
   ]
  },
  {
   "cell_type": "code",
   "execution_count": null,
   "metadata": {},
   "outputs": [],
   "source": []
  },
  {
   "cell_type": "code",
   "execution_count": null,
   "metadata": {},
   "outputs": [],
   "source": []
  },
  {
   "cell_type": "code",
   "execution_count": null,
   "metadata": {},
   "outputs": [],
   "source": []
  },
  {
   "cell_type": "code",
   "execution_count": null,
   "metadata": {},
   "outputs": [],
   "source": []
  },
  {
   "cell_type": "code",
   "execution_count": null,
   "metadata": {},
   "outputs": [],
   "source": []
  },
  {
   "cell_type": "code",
   "execution_count": null,
   "metadata": {},
   "outputs": [],
   "source": []
  },
  {
   "cell_type": "code",
   "execution_count": null,
   "metadata": {},
   "outputs": [],
   "source": []
  },
  {
   "cell_type": "code",
   "execution_count": null,
   "metadata": {},
   "outputs": [],
   "source": []
  },
  {
   "cell_type": "code",
   "execution_count": null,
   "metadata": {},
   "outputs": [],
   "source": []
  },
  {
   "cell_type": "code",
   "execution_count": null,
   "metadata": {},
   "outputs": [],
   "source": []
  },
  {
   "cell_type": "code",
   "execution_count": null,
   "metadata": {},
   "outputs": [],
   "source": []
  },
  {
   "cell_type": "code",
   "execution_count": null,
   "metadata": {},
   "outputs": [],
   "source": []
  },
  {
   "cell_type": "code",
   "execution_count": null,
   "metadata": {},
   "outputs": [],
   "source": []
  },
  {
   "cell_type": "code",
   "execution_count": null,
   "metadata": {},
   "outputs": [],
   "source": []
  },
  {
   "cell_type": "code",
   "execution_count": null,
   "metadata": {},
   "outputs": [],
   "source": []
  }
 ],
 "metadata": {
  "kernelspec": {
   "display_name": "Python 3",
   "language": "python",
   "name": "python3"
  },
  "language_info": {
   "codemirror_mode": {
    "name": "ipython",
    "version": 3
   },
   "file_extension": ".py",
   "mimetype": "text/x-python",
   "name": "python",
   "nbconvert_exporter": "python",
   "pygments_lexer": "ipython3",
   "version": "3.7.6"
  }
 },
 "nbformat": 4,
 "nbformat_minor": 4
}
