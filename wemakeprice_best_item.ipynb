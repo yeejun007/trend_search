{
 "cells": [
  {
   "cell_type": "markdown",
   "metadata": {},
   "source": [
    "## 카테고리별로 위메프에서 가장 구매량이 많은 아이템 뽑아내기\n",
    "- 카테고리 : Naver dev api의 카테고리\n",
    "- catId=50000000 : 패션의류\n",
    "- catId=50000001 : 패션잡화 \n",
    "- catId=50000002 : 화장품/미용\n",
    "- catId=50000003 : 디지털/가전\n",
    "- catId=50000004 : 가구/인테리어\n",
    "- catId=50000005 : 출산/육아\n",
    "- catId=50000006 : 식품\n",
    "- catId=50000007 : 스포츠/레저\n",
    "- catId=50000008 : 생활/건강\n",
    "- catId=50000009 : 여가/생활편의\n",
    "- catId=50000010 : 면세점"
   ]
  },
  {
   "cell_type": "code",
   "execution_count": 1,
   "metadata": {},
   "outputs": [],
   "source": [
    "cat_dict = {\n",
    "        '50000000' : '패션의류',\n",
    "        '50000001' : '패션잡화',\n",
    "        '50000002' : '화장품/미용',\n",
    "        '50000003' : '디지털/가전',\n",
    "        '50000004' : '가구/인테리어',\n",
    "        '50000005' : '출산/육아',\n",
    "        '50000006' : '식품',\n",
    "        '50000007' : '스포츠/레저',\n",
    "        '50000008' : '생활/건강',\n",
    "        '50000009' : '여가/생활편의',\n",
    "        '50000010' : '면세점'\n",
    "    }"
   ]
  },
  {
   "cell_type": "code",
   "execution_count": null,
   "metadata": {},
   "outputs": [],
   "source": []
  },
  {
   "cell_type": "code",
   "execution_count": null,
   "metadata": {},
   "outputs": [],
   "source": []
  },
  {
   "cell_type": "code",
   "execution_count": null,
   "metadata": {},
   "outputs": [],
   "source": []
  },
  {
   "cell_type": "code",
   "execution_count": null,
   "metadata": {},
   "outputs": [],
   "source": []
  },
  {
   "cell_type": "code",
   "execution_count": null,
   "metadata": {},
   "outputs": [],
   "source": []
  },
  {
   "cell_type": "code",
   "execution_count": null,
   "metadata": {},
   "outputs": [],
   "source": []
  },
  {
   "cell_type": "code",
   "execution_count": null,
   "metadata": {},
   "outputs": [],
   "source": []
  },
  {
   "cell_type": "code",
   "execution_count": null,
   "metadata": {},
   "outputs": [],
   "source": []
  }
 ],
 "metadata": {
  "kernelspec": {
   "display_name": "Python 3",
   "language": "python",
   "name": "python3"
  },
  "language_info": {
   "codemirror_mode": {
    "name": "ipython",
    "version": 3
   },
   "file_extension": ".py",
   "mimetype": "text/x-python",
   "name": "python",
   "nbconvert_exporter": "python",
   "pygments_lexer": "ipython3",
   "version": "3.7.6"
  }
 },
 "nbformat": 4,
 "nbformat_minor": 4
}
