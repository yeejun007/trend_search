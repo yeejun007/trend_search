{
 "cells": [
  {
   "cell_type": "markdown",
   "metadata": {},
   "source": [
    "## 카테고리별로 위메프에서 가장 구매량이 많은 아이템 뽑아내기\n",
    "- 카테고리 : Naver dev api의 카테고리\n",
    "- catId=50000000 : 패션의류\n",
    "- catId=50000001 : 패션잡화 \n",
    "- catId=50000002 : 화장품/미용\n",
    "- catId=50000003 : 디지털/가전\n",
    "- catId=50000004 : 가구/인테리어\n",
    "- catId=50000005 : 출산/육아\n",
    "- catId=50000006 : 식품\n",
    "- catId=50000007 : 스포츠/레저\n",
    "- catId=50000008 : 생활/건강\n",
    "- catId=50000009 : 여가/생활편의\n",
    "- catId=50000010 : 면세점"
   ]
  },
  {
   "cell_type": "code",
   "execution_count": 45,
   "metadata": {},
   "outputs": [],
   "source": [
    "import seaborn as sns\n",
    "import pandas as pd\n",
    "import matplotlib.pylab as plt\n",
    "import matplotlib as mpl\n",
    "from matplotlib import rc\n",
    "import json\n",
    "import requests\n",
    "from bs4 import BeautifulSoup\n",
    "from scrapy.http import TextResponse\n",
    "import missingno as msno\n",
    "import warnings\n",
    "import pprint\n",
    "warnings.filterwarnings('ignore')"
   ]
  },
  {
   "cell_type": "code",
   "execution_count": 46,
   "metadata": {},
   "outputs": [],
   "source": [
    "cat_dict = {\n",
    "        '50000000' : '패션의류',\n",
    "        '50000001' : '패션잡화',\n",
    "        '50000002' : '화장품/미용',\n",
    "        '50000003' : '디지털/가전',\n",
    "        '50000004' : '가구/인테리어',\n",
    "        '50000005' : '출산/육아',\n",
    "        '50000006' : '식품',\n",
    "        '50000007' : '스포츠/레저',\n",
    "        '50000008' : '생활/건강',\n",
    "        '50000009' : '여가/생활편의',\n",
    "        '50000010' : '면세점'\n",
    "    }"
   ]
  },
  {
   "cell_type": "code",
   "execution_count": 93,
   "metadata": {},
   "outputs": [],
   "source": [
    "keyword = cat_dict['50000000']\n",
    "page = 1\n",
    "url = 'https://search.wemakeprice.com/search?searchType=DEFAULT&keyword={}&isRec=1&page={}'.format(keyword, page)\n",
    "\n",
    "req = requests.get(url)\n",
    "response = TextResponse(req.url, body=req.text, encoding=\"utf-8\")\n"
   ]
  },
  {
   "cell_type": "code",
   "execution_count": 94,
   "metadata": {},
   "outputs": [
    {
     "data": {
      "text/plain": [
       "<200 https://search.wemakeprice.com/search?searchType=DEFAULT&keyword=%ED%8C%A8%EC%85%98%EC%9D%98%EB%A5%98&isRec=1&page=1>"
      ]
     },
     "execution_count": 94,
     "metadata": {},
     "output_type": "execute_result"
    }
   ],
   "source": [
    "response"
   ]
  },
  {
   "cell_type": "code",
   "execution_count": 141,
   "metadata": {},
   "outputs": [
    {
     "data": {
      "text/plain": [
       "[]"
      ]
     },
     "execution_count": 141,
     "metadata": {},
     "output_type": "execute_result"
    }
   ],
   "source": [
    "response.xpath('//*[@id=\"_contents\"]/div/div[2]/div[4]/div[2]/div/a[1]/div/div[2]/div[2]')"
   ]
  },
  {
   "cell_type": "code",
   "execution_count": null,
   "metadata": {},
   "outputs": [],
   "source": []
  },
  {
   "cell_type": "code",
   "execution_count": null,
   "metadata": {},
   "outputs": [],
   "source": []
  },
  {
   "cell_type": "code",
   "execution_count": null,
   "metadata": {},
   "outputs": [],
   "source": []
  },
  {
   "cell_type": "code",
   "execution_count": null,
   "metadata": {},
   "outputs": [],
   "source": []
  },
  {
   "cell_type": "code",
   "execution_count": null,
   "metadata": {},
   "outputs": [],
   "source": []
  },
  {
   "cell_type": "code",
   "execution_count": null,
   "metadata": {},
   "outputs": [],
   "source": []
  },
  {
   "cell_type": "code",
   "execution_count": null,
   "metadata": {},
   "outputs": [],
   "source": []
  },
  {
   "cell_type": "code",
   "execution_count": null,
   "metadata": {},
   "outputs": [],
   "source": []
  },
  {
   "cell_type": "code",
   "execution_count": null,
   "metadata": {},
   "outputs": [],
   "source": []
  },
  {
   "cell_type": "code",
   "execution_count": null,
   "metadata": {},
   "outputs": [],
   "source": []
  },
  {
   "cell_type": "code",
   "execution_count": null,
   "metadata": {},
   "outputs": [],
   "source": []
  },
  {
   "cell_type": "code",
   "execution_count": null,
   "metadata": {},
   "outputs": [],
   "source": []
  },
  {
   "cell_type": "code",
   "execution_count": null,
   "metadata": {},
   "outputs": [],
   "source": []
  }
 ],
 "metadata": {
  "kernelspec": {
   "display_name": "Python 3",
   "language": "python",
   "name": "python3"
  },
  "language_info": {
   "codemirror_mode": {
    "name": "ipython",
    "version": 3
   },
   "file_extension": ".py",
   "mimetype": "text/x-python",
   "name": "python",
   "nbconvert_exporter": "python",
   "pygments_lexer": "ipython3",
   "version": "3.7.6"
  }
 },
 "nbformat": 4,
 "nbformat_minor": 4
}
